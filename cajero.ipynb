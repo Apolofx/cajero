{
 "cells": [
  {
   "cell_type": "code",
   "execution_count": null,
   "metadata": {},
   "outputs": [],
   "source": [
    "class Cajero:\n",
    "    dinero = 0\n",
    "    def __init__(self, deniero):\n",
    "        self.a = dinero"
   ]
  },
  {
   "cell_type": "code",
   "execution_count": 1,
   "metadata": {},
   "outputs": [
    {
     "name": "stdout",
     "output_type": "stream",
     "text": [
      "1 23\n"
     ]
    }
   ],
   "source": [
    "a = 1\n",
    "def f():\n",
    "    a = 23\n",
    "    return a\n",
    "print(a, f())"
   ]
  },
  {
   "cell_type": "code",
   "execution_count": 28,
   "metadata": {},
   "outputs": [],
   "source": [
    "banco = {\n",
    "    \"mauro\": 100, \n",
    "    \"nacho\": 50,\n",
    "}"
   ]
  },
  {
   "cell_type": "code",
   "execution_count": 7,
   "metadata": {},
   "outputs": [
    {
     "data": {
      "text/plain": [
       "50"
      ]
     },
     "execution_count": 7,
     "metadata": {},
     "output_type": "execute_result"
    }
   ],
   "source": [
    "banco[\"Nacho\"]"
   ]
  },
  {
   "cell_type": "code",
   "execution_count": 8,
   "metadata": {},
   "outputs": [],
   "source": [
    "class Usuario:\n",
    "    nombre = None\n",
    "    def __init__(self, nombre):\n",
    "        self.nombre = nombre"
   ]
  },
  {
   "cell_type": "code",
   "execution_count": 34,
   "metadata": {},
   "outputs": [],
   "source": [
    "class Cajero:\n",
    "    def __init__(self, dinero=250000, calle=\"\"):\n",
    "        self.calle = calle\n",
    "        self.dinero = dinero\n",
    "\n",
    "    def extraer(self, cantidad, usuario):\n",
    "        if cantidad <= self.dinero:\n",
    "            self.dinero -= cantidad\n",
    "            print(\"Extraccion exitosa, su saldo actual es de $\"+str(self.dinero)+ \".\")\n",
    "        else:\n",
    "            print(\"No hay dinero suficiente\")\n",
    "\n",
    "    def depositar(self, cantidad, usuario):\n",
    "        self.dinero += cantidad\n",
    "        print(\"Ha depositado la cantida de $\"+str(cantidad)+\", su saldo actual es de\\\n",
    " $\"+str(self.dinero)+\".\")\n",
    "\n",
    "    def balance(self, usuario):\n",
    "        caja = banco[usuario]\n",
    "        print(\"Su balance es $\"+ str(caja))\n"
   ]
  },
  {
   "cell_type": "code",
   "execution_count": 36,
   "metadata": {},
   "outputs": [],
   "source": [
    "c = Cajero()"
   ]
  },
  {
   "cell_type": "code",
   "execution_count": 16,
   "metadata": {},
   "outputs": [],
   "source": [
    "mauro = Usuario(\"mauro\")"
   ]
  },
  {
   "cell_type": "code",
   "execution_count": 17,
   "metadata": {},
   "outputs": [
    {
     "data": {
      "text/plain": [
       "'mauro'"
      ]
     },
     "execution_count": 17,
     "metadata": {},
     "output_type": "execute_result"
    }
   ],
   "source": [
    "mauro.nombre\n"
   ]
  },
  {
   "cell_type": "code",
   "execution_count": 37,
   "metadata": {},
   "outputs": [
    {
     "name": "stdout",
     "output_type": "stream",
     "text": [
      "Su balance es $100\n"
     ]
    }
   ],
   "source": [
    "c.balance(\"mauro\")"
   ]
  },
  {
   "cell_type": "code",
   "execution_count": 31,
   "metadata": {},
   "outputs": [],
   "source": [
    "nacho = Usuario(\"nacho\")"
   ]
  },
  {
   "cell_type": "code",
   "execution_count": null,
   "metadata": {},
   "outputs": [],
   "source": []
  }
 ],
 "metadata": {
  "kernelspec": {
   "display_name": "Python 3",
   "language": "python",
   "name": "python3"
  },
  "language_info": {
   "codemirror_mode": {
    "name": "ipython",
    "version": 3
   },
   "file_extension": ".py",
   "mimetype": "text/x-python",
   "name": "python",
   "nbconvert_exporter": "python",
   "pygments_lexer": "ipython3",
   "version": "3.6.8"
  }
 },
 "nbformat": 4,
 "nbformat_minor": 4
}
